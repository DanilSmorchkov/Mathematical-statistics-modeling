{
 "cells": [
  {
   "cell_type": "markdown",
   "id": "f4c62d6c-d53d-42ac-9ee9-5060e1cebf25",
   "metadata": {},
   "source": [
    "# Моделирование Теоремы Гливенко-Контелли"
   ]
  },
  {
   "cell_type": "markdown",
   "id": "1a8808ec-baa3-43fe-a340-4762d4db41c8",
   "metadata": {},
   "source": [
    "Мы смоделируем не саму теорему Гливенко-Контелли, а более слабое утверждение:\n",
    "$$\n",
    "\\sup\\limits_{x} |F(x)-\\overline{F_n}(x)| \\xrightarrow{P} 0 \\Longleftrightarrow P(\\sup\\limits_{x} |F(x)-\\overline{F_n}(x)| \\geq \\varepsilon) \\longrightarrow 0, \\text{ при } n \\to \\infty\n",
    "$$\n",
    "Используем распределение Парето для моделирования этого утверждения. Напомним, что функция распределения Парето выглядит следующим образом:\n",
    "$$\n",
    "F(x) = \\begin{cases}\n",
    "1 - \\frac{1}{x^\\alpha}, & x \\geq 1 \\cr\n",
    "0, & x < 1\n",
    "\\end{cases}\n",
    "$$\n",
    "Это то самое распределение, которое гласит, что 20% людей владеют 80% богатства. Запишем также его плотность:\n",
    "$$\n",
    "p(x) = \\begin{cases}\n",
    " \\frac{\\alpha}{x^{\\alpha+1}}, & x \\geq 1 \\cr\n",
    "0, & x < 1\n",
    "\\end{cases}\n",
    "$$"
   ]
  },
  {
   "cell_type": "code",
   "execution_count": 47,
   "id": "7a5a8c1a-839a-4e56-817b-8732c757f5cf",
   "metadata": {},
   "outputs": [],
   "source": [
    "# Импортируем необходимые библиотки\n",
    "import numpy as np\n",
    "import scipy\n",
    "import matplotlib.pyplot as plt"
   ]
  },
  {
   "cell_type": "markdown",
   "id": "bc671a09-06ef-47d5-a895-f2a72c06ff4b",
   "metadata": {},
   "source": [
    "Реализуем функцию распределения Парето:"
   ]
  },
  {
   "cell_type": "code",
   "execution_count": 70,
   "id": "d86bad40-ab87-4f9c-b960-9485e373aa3a",
   "metadata": {},
   "outputs": [],
   "source": [
    "def Pareto_distribution_function(x, alpha):\n",
    "    '''\n",
    "    Функция, вычисляющая значение функции распределения Парето с параметром alpha в точке x (x >= 1)\n",
    "    '''\n",
    "    return 1 - 1 / (x ** alpha)"
   ]
  },
  {
   "cell_type": "markdown",
   "id": "4c01bb03-4d14-4ba0-89d0-ae0e1439a197",
   "metadata": {},
   "source": [
    "Зададим параметры моделирования:"
   ]
  },
  {
   "cell_type": "code",
   "execution_count": 73,
   "id": "3ed43350-b117-470a-9758-b5f4d171a448",
   "metadata": {},
   "outputs": [],
   "source": [
    "alpha = 4 # Параметр распределения Парето\n",
    "n = 30000 # максимальное количество элементов выборки\n",
    "iterations = 100 # количество итераций для каждой выборки определенного размера (для подсчета вероятности)\n",
    "epsilon = 0.01 \n",
    "interval = np.linspace(1, (10**(4/alpha)), 10000) # отрезок, который охватывает значения, состовляющие вероятность 0,9999 \n",
    "F = Pareto_distribution_function(interval, alpha) # Функция распределение Парето для точек из interval"
   ]
  },
  {
   "cell_type": "markdown",
   "id": "052c9db9-b9bb-4b92-85ef-088fe932e595",
   "metadata": {},
   "source": [
    "Само моделирование происходит следующим образом: \\\n",
    "Во-первых, итерация по размеру выборки (от 1 до n). Тут все понятно: параметр ni подается в функцию scipy.stats.pareto.rvs и на выходе мы получаем ni точек сгенерированный по распределению Парето с параметром alpha. \\\n",
    "Второй цикл нам нужен для вычисления вероятности: мы генерируем определенное количество ($iterations$) выборок одной и той же длины. Для каждой из этих выборок считаем максимальную разницу между теоретической и эмпирической функциями распределения ($supremum$). Затем считаем количество максимальных разниц, значения которых больше $epsilon$ ($n_true$). И далее получаем вероятность для выборки данной длины: $P(|F(x)-\\overline{F_n}(x)| \\geq \\varepsilon) = \\frac{n\\_true}{iterations}$. \\\n",
    "В самом конце строим график для визуализации."
   ]
  },
  {
   "cell_type": "code",
   "execution_count": null,
   "id": "dbfa7c83-88c0-4d9b-a188-d2629ad0a617",
   "metadata": {},
   "outputs": [],
   "source": [
    "P = [] # Список для хранения вероятностей для выборок длины от 1 до n\n",
    "for ni in range(1, n + 1):\n",
    "    supremum = [] # Список для хранения максимумов отклонений генеральной и эмпирической функций распределения \n",
    "                  # для выборок определенной длины\n",
    "    for mi in range(iterations):\n",
    "        data = scipy.stats.pareto.rvs(alpha, size=ni)   # ni точек сгенерированный по распределению Парето\n",
    "        F_n = scipy.stats.ecdf(data)                    # Эмпирическая функция распределения\n",
    "        diff = np.abs(F - F_n.cdf.evaluate(interval))   # Разница между функциями распределения\n",
    "        supremum.append(np.max(diff))                   \n",
    "    supremum =  np.array(supremum)\n",
    "    n_true = len(supremum[supremum >= epsilon])         # Количество выборок одной длины, которые >= epsilon\n",
    "    P.append( n_true / iterations)\n",
    "plt.plot(P)\n",
    "plt.xlabel('n')\n",
    "plt.ylabel('P')\n",
    "plt.minorticks_on()\n",
    "plt.grid(which='major', color = '#444', linewidth = 1)\n",
    "plt.grid(which='minor', color='#aaa', ls=':')\n",
    "plt.show()"
   ]
  }
 ],
 "metadata": {
  "kernelspec": {
   "display_name": "Python 3 (ipykernel)",
   "language": "python",
   "name": "python3"
  },
  "language_info": {
   "codemirror_mode": {
    "name": "ipython",
    "version": 3
   },
   "file_extension": ".py",
   "mimetype": "text/x-python",
   "name": "python",
   "nbconvert_exporter": "python",
   "pygments_lexer": "ipython3",
   "version": "3.9.0"
  }
 },
 "nbformat": 4,
 "nbformat_minor": 5
}
